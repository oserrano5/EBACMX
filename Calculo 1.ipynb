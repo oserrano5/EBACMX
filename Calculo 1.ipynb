{
 "cells": [
  {
   "cell_type": "code",
   "execution_count": 2,
   "metadata": {},
   "outputs": [
    {
     "name": "stdout",
     "output_type": "stream",
     "text": [
      "El resultado es: 1000.0\n",
      "El resultado total es: 200000.0\n"
     ]
    }
   ],
   "source": [
    "b = 30\n",
    "\n",
    "e = 1.5\n",
    "c = 30 * 10 * 5 / e\n",
    "\n",
    "\n",
    "print(\"El resultado es:\", c)\n",
    "\n",
    "# Cambiado el factor 102 según requerimientos del negocio\n",
    "# Cambiado el factor 110 según Junta Control\n",
    "\n",
    "# Cambio a factor 200 por directorio \n",
    "\n",
    "#Nueva variable E\n",
    "\n",
    "\n",
    "\n",
    "d = c * 200\n",
    "print(\"El resultado total es:\", d)"
   ]
  }
 ],
 "metadata": {
  "kernelspec": {
   "display_name": "Python 3",
   "language": "python",
   "name": "python3"
  },
  "language_info": {
   "codemirror_mode": {
    "name": "ipython",
    "version": 3
   },
   "file_extension": ".py",
   "mimetype": "text/x-python",
   "name": "python",
   "nbconvert_exporter": "python",
   "pygments_lexer": "ipython3",
   "version": "3.10.8"
  },
  "orig_nbformat": 4
 },
 "nbformat": 4,
 "nbformat_minor": 2
}
